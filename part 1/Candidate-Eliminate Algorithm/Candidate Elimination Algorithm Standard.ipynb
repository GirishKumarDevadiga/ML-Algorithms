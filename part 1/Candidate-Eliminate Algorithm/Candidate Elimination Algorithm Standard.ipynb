{
 "cells": [
  {
   "cell_type": "code",
   "execution_count": 53,
   "metadata": {
    "ExecuteTime": {
     "end_time": "2021-01-26T09:28:01.092038Z",
     "start_time": "2021-01-26T09:28:01.085923Z"
    }
   },
   "outputs": [],
   "source": [
    "# importing the library\n",
    "import numpy as np\n",
    "import pandas as pd"
   ]
  },
  {
   "cell_type": "code",
   "execution_count": 54,
   "metadata": {
    "ExecuteTime": {
     "end_time": "2021-01-26T09:28:01.711965Z",
     "start_time": "2021-01-26T09:28:01.694209Z"
    }
   },
   "outputs": [],
   "source": [
    "# reading the csv file\n",
    "data = pd.read_csv('wsce.csv', header = None)"
   ]
  },
  {
   "cell_type": "code",
   "execution_count": 55,
   "metadata": {
    "ExecuteTime": {
     "end_time": "2021-01-26T09:28:02.204339Z",
     "start_time": "2021-01-26T09:28:02.166927Z"
    }
   },
   "outputs": [
    {
     "data": {
      "text/html": [
       "<div>\n",
       "<style scoped>\n",
       "    .dataframe tbody tr th:only-of-type {\n",
       "        vertical-align: middle;\n",
       "    }\n",
       "\n",
       "    .dataframe tbody tr th {\n",
       "        vertical-align: top;\n",
       "    }\n",
       "\n",
       "    .dataframe thead th {\n",
       "        text-align: right;\n",
       "    }\n",
       "</style>\n",
       "<table border=\"1\" class=\"dataframe\">\n",
       "  <thead>\n",
       "    <tr style=\"text-align: right;\">\n",
       "      <th></th>\n",
       "      <th>0</th>\n",
       "      <th>1</th>\n",
       "      <th>2</th>\n",
       "      <th>3</th>\n",
       "      <th>4</th>\n",
       "      <th>5</th>\n",
       "      <th>6</th>\n",
       "    </tr>\n",
       "  </thead>\n",
       "  <tbody>\n",
       "    <tr>\n",
       "      <th>0</th>\n",
       "      <td>Sunny</td>\n",
       "      <td>Warm</td>\n",
       "      <td>Normal</td>\n",
       "      <td>Strong</td>\n",
       "      <td>Warm</td>\n",
       "      <td>Same</td>\n",
       "      <td>Y</td>\n",
       "    </tr>\n",
       "    <tr>\n",
       "      <th>1</th>\n",
       "      <td>Sunny</td>\n",
       "      <td>Warm</td>\n",
       "      <td>High</td>\n",
       "      <td>Strong</td>\n",
       "      <td>Warm</td>\n",
       "      <td>Same</td>\n",
       "      <td>Y</td>\n",
       "    </tr>\n",
       "    <tr>\n",
       "      <th>2</th>\n",
       "      <td>Rainy</td>\n",
       "      <td>Cold</td>\n",
       "      <td>High</td>\n",
       "      <td>Strong</td>\n",
       "      <td>Warm</td>\n",
       "      <td>Change</td>\n",
       "      <td>N</td>\n",
       "    </tr>\n",
       "    <tr>\n",
       "      <th>3</th>\n",
       "      <td>Sunny</td>\n",
       "      <td>Warm</td>\n",
       "      <td>High</td>\n",
       "      <td>Strong</td>\n",
       "      <td>Cool</td>\n",
       "      <td>Change</td>\n",
       "      <td>Y</td>\n",
       "    </tr>\n",
       "  </tbody>\n",
       "</table>\n",
       "</div>"
      ],
      "text/plain": [
       "       0     1       2       3     4       5  6\n",
       "0  Sunny  Warm  Normal  Strong  Warm    Same  Y\n",
       "1  Sunny  Warm    High  Strong  Warm    Same  Y\n",
       "2  Rainy  Cold    High  Strong  Warm  Change  N\n",
       "3  Sunny  Warm    High  Strong  Cool  Change  Y"
      ]
     },
     "execution_count": 55,
     "metadata": {},
     "output_type": "execute_result"
    }
   ],
   "source": [
    "data"
   ]
  },
  {
   "cell_type": "code",
   "execution_count": 56,
   "metadata": {
    "ExecuteTime": {
     "end_time": "2021-01-26T09:28:02.720601Z",
     "start_time": "2021-01-26T09:28:02.707953Z"
    }
   },
   "outputs": [
    {
     "data": {
      "text/plain": [
       "array([['Sunny', 'Warm', 'Normal', 'Strong', 'Warm', 'Same'],\n",
       "       ['Sunny', 'Warm', 'High', 'Strong', 'Warm', 'Same'],\n",
       "       ['Rainy', 'Cold', 'High', 'Strong', 'Warm', 'Change'],\n",
       "       ['Sunny', 'Warm', 'High', 'Strong', 'Cool', 'Change']],\n",
       "      dtype=object)"
      ]
     },
     "execution_count": 56,
     "metadata": {},
     "output_type": "execute_result"
    }
   ],
   "source": [
    "concepts = np.array(data.iloc[:,0:-1])\n",
    "concepts"
   ]
  },
  {
   "cell_type": "code",
   "execution_count": 57,
   "metadata": {
    "ExecuteTime": {
     "end_time": "2021-01-26T09:28:03.244366Z",
     "start_time": "2021-01-26T09:28:03.232427Z"
    }
   },
   "outputs": [
    {
     "data": {
      "text/plain": [
       "array(['Y', 'Y', 'N', 'Y'], dtype=object)"
      ]
     },
     "execution_count": 57,
     "metadata": {},
     "output_type": "execute_result"
    }
   ],
   "source": [
    "target = np.array(data.iloc[:,-1]) \n",
    "target"
   ]
  },
  {
   "cell_type": "code",
   "execution_count": 76,
   "metadata": {
    "ExecuteTime": {
     "end_time": "2021-01-26T09:37:02.196887Z",
     "start_time": "2021-01-26T09:37:02.152382Z"
    }
   },
   "outputs": [],
   "source": [
    "# learing concepts and creating version space\n",
    "def learn(concepts, target):\n",
    "    specific_h = ['NULL' for i in range(len(concepts[0]))]\n",
    "    print(\"initialization of specific_h and general_h\")\n",
    "    print('S0: ', specific_h)\n",
    "    general_h = [[\"?\" for i in range(len(specific_h))] for i in range(len(specific_h))]\n",
    "    print('G0: ', general_h) \n",
    "    print()\n",
    "    \n",
    "    specific_h = concepts[0].copy()\n",
    "    \n",
    "    for i, h in enumerate(concepts):\n",
    "        print(\"For Loop Starts\")\n",
    "        if target[i] == \"yes\" or target[i] == \"Y\":\n",
    "            print(\"If instance is Positive \")\n",
    "            for x in range(len(specific_h)): \n",
    "                if h[x] != specific_h[x]: \n",
    "                    specific_h[x] ='?'\n",
    "                    general_h[x][x] ='?'\n",
    "                    \n",
    "        if target[i] == \"no\" or target[i] == \"N\":\n",
    "            print(\"If instance is Negative \")\n",
    "            for x in range(len(specific_h)):\n",
    "                if h[x]!= specific_h[x]:\n",
    "                    general_h[x][x] = specific_h[x]\n",
    "                else:\n",
    "                    general_h[x][x] = '?' \n",
    "        \n",
    "        print(\" steps of Candidate Elimination Algorithm\",i+1) \n",
    "        print('S'+ str(i+1) + ': ', specific_h)\n",
    "        print()\n",
    "        print('G'+ str(i+1) + ': ', general_h)\n",
    "        print(\"\\n\")\n",
    "        print(\"\\n\")\n",
    "        \n",
    "    indices = [i for i, val in enumerate(general_h) if val == ['?', '?', '?', '?','?', '?']] \n",
    "    \n",
    "    for i in indices:\n",
    "        general_h.remove(['?', '?', '?', '?', '?', '?'])\n",
    "        \n",
    "    if (general_h == []):\n",
    "        general_h = ['?', '?', '?', '?', '?', '?']\n",
    "        \n",
    "    return specific_h, general_h            "
   ]
  },
  {
   "cell_type": "code",
   "execution_count": 75,
   "metadata": {
    "ExecuteTime": {
     "end_time": "2021-01-26T09:36:34.634227Z",
     "start_time": "2021-01-26T09:36:34.597606Z"
    }
   },
   "outputs": [
    {
     "name": "stdout",
     "output_type": "stream",
     "text": [
      "initialization of specific_h and general_h\n",
      "S0:  ['NULL', 'NULL', 'NULL', 'NULL', 'NULL', 'NULL']\n",
      "G0:  [['?', '?', '?', '?', '?', '?'], ['?', '?', '?', '?', '?', '?'], ['?', '?', '?', '?', '?', '?'], ['?', '?', '?', '?', '?', '?'], ['?', '?', '?', '?', '?', '?'], ['?', '?', '?', '?', '?', '?']]\n",
      "\n",
      "For Loop Starts\n",
      "If instance is Positive \n",
      " steps of Candidate Elimination Algorithm 1\n",
      "S1:  ['Sunny' 'Warm' 'Normal' 'Strong' 'Warm' 'Same']\n",
      "\n",
      "G1:  [['?', '?', '?', '?', '?', '?'], ['?', '?', '?', '?', '?', '?'], ['?', '?', '?', '?', '?', '?'], ['?', '?', '?', '?', '?', '?'], ['?', '?', '?', '?', '?', '?'], ['?', '?', '?', '?', '?', '?']]\n",
      "\n",
      "\n",
      "\n",
      "\n",
      "For Loop Starts\n",
      "If instance is Positive \n",
      " steps of Candidate Elimination Algorithm 2\n",
      "S2:  ['Sunny' 'Warm' '?' 'Strong' 'Warm' 'Same']\n",
      "\n",
      "G2:  [['?', '?', '?', '?', '?', '?'], ['?', '?', '?', '?', '?', '?'], ['?', '?', '?', '?', '?', '?'], ['?', '?', '?', '?', '?', '?'], ['?', '?', '?', '?', '?', '?'], ['?', '?', '?', '?', '?', '?']]\n",
      "\n",
      "\n",
      "\n",
      "\n",
      "For Loop Starts\n",
      "If instance is Negative \n",
      " steps of Candidate Elimination Algorithm 3\n",
      "S3:  ['Sunny' 'Warm' '?' 'Strong' 'Warm' 'Same']\n",
      "\n",
      "G3:  [['Sunny', '?', '?', '?', '?', '?'], ['?', 'Warm', '?', '?', '?', '?'], ['?', '?', '?', '?', '?', '?'], ['?', '?', '?', '?', '?', '?'], ['?', '?', '?', '?', '?', '?'], ['?', '?', '?', '?', '?', 'Same']]\n",
      "\n",
      "\n",
      "\n",
      "\n",
      "For Loop Starts\n",
      "If instance is Positive \n",
      " steps of Candidate Elimination Algorithm 4\n",
      "S4:  ['Sunny' 'Warm' '?' 'Strong' '?' '?']\n",
      "\n",
      "G4:  [['Sunny', '?', '?', '?', '?', '?'], ['?', 'Warm', '?', '?', '?', '?'], ['?', '?', '?', '?', '?', '?'], ['?', '?', '?', '?', '?', '?'], ['?', '?', '?', '?', '?', '?'], ['?', '?', '?', '?', '?', '?']]\n",
      "\n",
      "\n",
      "\n",
      "\n",
      "Final Specific_h:\n",
      "['Sunny' 'Warm' '?' 'Strong' '?' '?']\n",
      "\n",
      "Final General_h:\n",
      "[['Sunny', '?', '?', '?', '?', '?'], ['?', 'Warm', '?', '?', '?', '?']]\n"
     ]
    }
   ],
   "source": [
    "s_final, g_final = learn(concepts, target)\n",
    "\n",
    "print(\"Final Specific_h:\", s_final, sep=\"\\n\")\n",
    "print()\n",
    "print(\"Final General_h:\", g_final, sep=\"\\n\")\n",
    "                "
   ]
  },
  {
   "cell_type": "code",
   "execution_count": null,
   "metadata": {},
   "outputs": [],
   "source": []
  }
 ],
 "metadata": {
  "kernelspec": {
   "display_name": "Python 3",
   "language": "python",
   "name": "python3"
  },
  "language_info": {
   "codemirror_mode": {
    "name": "ipython",
    "version": 3
   },
   "file_extension": ".py",
   "mimetype": "text/x-python",
   "name": "python",
   "nbconvert_exporter": "python",
   "pygments_lexer": "ipython3",
   "version": "3.8.5"
  }
 },
 "nbformat": 4,
 "nbformat_minor": 4
}
