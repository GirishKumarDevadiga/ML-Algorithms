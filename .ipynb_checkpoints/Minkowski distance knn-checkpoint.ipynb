{
 "cells": [
  {
   "cell_type": "code",
   "execution_count": 2,
   "metadata": {
    "ExecuteTime": {
     "end_time": "2021-01-26T12:35:25.138750Z",
     "start_time": "2021-01-26T12:35:25.119490Z"
    }
   },
   "outputs": [
    {
     "name": "stdout",
     "output_type": "stream",
     "text": [
      "3.503\n"
     ]
    }
   ],
   "source": [
    "# Python3 program to find Minkowski distance \n",
    "\n",
    "# import math library \n",
    "from math import *\n",
    "from decimal import Decimal \n",
    "\n",
    "# Function distance between two points \n",
    "# and calculate distance value to given \n",
    "# root value(p is root value) \n",
    "def p_root(value, root): \n",
    "\t\n",
    "\troot_value = 1 / float(root) \n",
    "\treturn round (Decimal(value) **\n",
    "\t\t\tDecimal(root_value), 3) \n",
    "\n",
    "def minkowski_distance(x, y, p_value): \n",
    "\t\n",
    "\t# pass the p_root function to calculate \n",
    "\t# all the value of vector parallely \n",
    "\treturn (p_root(sum(pow(abs(a-b), p_value) \n",
    "\t\t\tfor a, b in zip(x, y)), p_value)) \n",
    "\n",
    "# Driver Code \n",
    "vector1 = [0, 2, 3, 4] \n",
    "vector2 = [2, 4, 3, 7] \n",
    "p = 3\n",
    "print(minkowski_distance(vector1, vector2, p)) \n"
   ]
  },
  {
   "cell_type": "code",
   "execution_count": null,
   "metadata": {},
   "outputs": [],
   "source": []
  }
 ],
 "metadata": {
  "kernelspec": {
   "display_name": "Python 3",
   "language": "python",
   "name": "python3"
  },
  "language_info": {
   "codemirror_mode": {
    "name": "ipython",
    "version": 3
   },
   "file_extension": ".py",
   "mimetype": "text/x-python",
   "name": "python",
   "nbconvert_exporter": "python",
   "pygments_lexer": "ipython3",
   "version": "3.8.5"
  }
 },
 "nbformat": 4,
 "nbformat_minor": 4
}
